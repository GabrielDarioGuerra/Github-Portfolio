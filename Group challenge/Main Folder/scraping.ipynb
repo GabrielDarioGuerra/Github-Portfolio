{
 "cells": [
  {
   "cell_type": "code",
   "execution_count": 1,
   "metadata": {},
   "outputs": [],
   "source": [
    "import json\n",
    "import requests\n",
    "import pandas as pd\n",
    "\n",
    "URL = 'https://mastodon.social/api/v1/timelines/public'\n",
    "params = {\n",
    "    'limit': 40\n",
    "}\n",
    "\n",
    "since = pd.Timestamp('now', tz='utc') - pd.DateOffset(hour=1)\n",
    "is_end = False\n",
    "\n",
    "results = []\n",
    "\n",
    "while True:\n",
    "    r = requests.get(URL, params=params)\n",
    "    toots = json.loads(r.text)\n",
    "\n",
    "    if len(toots) == 0:\n",
    "        break\n",
    "    \n",
    "    for t in toots:\n",
    "        timestamp = pd.Timestamp(t['created_at'], tz='utc')\n",
    "        if timestamp <= since:\n",
    "            is_end = True\n",
    "            break\n",
    "            \n",
    "        results.append(t)\n",
    "    \n",
    "    if is_end:\n",
    "        break\n",
    "    \n",
    "    max_id = toots[-1]['id']\n",
    "    params['max_id'] = max_id\n",
    "    \n",
    "df = pd.DataFrame(results)"
   ]
  }
 ],
 "metadata": {
  "kernelspec": {
   "display_name": "Python 3",
   "language": "python",
   "name": "python3"
  },
  "language_info": {
   "codemirror_mode": {
    "name": "ipython",
    "version": 3
   },
   "file_extension": ".py",
   "mimetype": "text/x-python",
   "name": "python",
   "nbconvert_exporter": "python",
   "pygments_lexer": "ipython3",
   "version": "3.11.1"
  }
 },
 "nbformat": 4,
 "nbformat_minor": 2
}
